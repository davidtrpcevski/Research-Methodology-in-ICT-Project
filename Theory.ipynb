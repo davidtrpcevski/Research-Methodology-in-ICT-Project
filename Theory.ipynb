{
 "cells": [
  {
   "cell_type": "markdown",
   "metadata": {
    "kernel": "SoS"
   },
   "source": [
    "# Филтрирање на слика во фреквенциски домен\n",
    "\n",
    "## Теорија\n",
    "\n",
    "За да филтрираме слика во фреквенциски домен \n",
    "потребно е да ја помножиме сликата во фреквенциски \n",
    "домен со филтерот (кернел) кој е исто така во фреквенциски домен.\n",
    "\n",
    "$$I_{f,filt} = HI_f$$\n",
    "\n",
    "За таа цел потребно е да се вметне Octave функција која ќе креира “Band pass gaussian filter” во фреквенциски домен. Bandpass гаусовиот филтер во фреквенциски домен е дефиниран со равенката:\n",
    "\n",
    "\n",
    "$$H(i,j)=e^{-\\dfrac{d(i,j)^2}{f_{h}^{2}}}\\left(1-e^{-\\dfrac{d(i,j)^2}{f_{l}^{2}}}\\right)$$\n",
    "\n",
    "Каде што $d(i,j)$ е евклидовото растојанието на даден пиксел од центарот на сликата, додека $f_h$ и $f_l$ се праговите на високите и ниските фреквенции кои сакаме да ги филтрираме.\n",
    "Конверзија на 2D сликата од просторен во фреквенциски домен се прави со користење на Фуриева трансформација. Фуриевата трансформација е дефинирана како:\n",
    "\n",
    "$$F(u,v)=\\underset{-\\infty}\\iint^{\\infty}f(x,y)e^{-i2\\pi(ux+vy)}dxdy$$\n",
    "\n",
    "А во дискретниот домен горната равенка може да биде преведена како\n",
    "\n",
    "$$F(u,v) = \\displaystyle\\sum_{m=-\\infty}^{\\infty} \\sum_{n=-\\infty}^{\\infty} f[m,n] \\cdot e^ {-i2\\pi(umx_0+vny_0)}$$\n",
    "        \n",
    "Конверзија на 2D сликата од фреквенциски во просторен домен се прави со\n",
    "користење на инверзна Фуриева трансформација. Инверзната Фуриева\n",
    "трансформација е дефинирана како:\n",
    "\n",
    "$$f(x,y)=\\underset{-\\infty}\\iint^{\\infty}F(u,v)e^{i2\\pi(ux+vy)}dudv$$\n",
    "\n",
    "А во дискретниот домен горната равенка може да биде преведена како\n",
    "\n",
    "$$F(x,y) = \\displaystyle\\sum_{m=-\\infty}^{\\infty} \\sum_{n=-\\infty}^{\\infty} f[m,n] \\cdot e^ {i2\\pi(xmu_0+ynv_0)}$$"
   ]
  },
  {
   "cell_type": "markdown",
   "metadata": {
    "kernel": "SoS"
   },
   "source": [
    "## Имплементација и визуелизација"
   ]
  },
  {
   "cell_type": "code",
   "execution_count": null,
   "metadata": {
    "kernel": "Matlab"
   },
   "outputs": [],
   "source": [
    "%%file create_filter.m\n",
    "\n",
    "function filter = create_filter(nx,ny,d0,d1)\n",
    "    filter = ones(nx,ny);\n",
    "    for i = 0:nx-1\n",
    "        for j = 0:ny-1\n",
    "            dist= sqrt((i-nx/2)^2 + (j-ny/2)^2);\n",
    "            filter(i+1,j+1) = exp(-(dist^2)/(d1^2)).*(1.0-exp(-(dist^2)/(d0^2)));\n",
    "        end\n",
    "    end\n",
    "    filter(nx/2+1,ny/2+1)=1;\n",
    "end"
   ]
  },
  {
   "cell_type": "code",
   "execution_count": null,
   "metadata": {
    "kernel": "Matlab",
    "scrolled": true
   },
   "outputs": [],
   "source": [
    "clear all\n",
    "%read image\n",
    "im = double(imread('Requirements/Barbara.tif'));\n",
    "%size of the image\n",
    "[nx ny] = size(im);\n",
    "%Transform the image from spatial to frequency domain\n",
    "im_fft = fftshift(fft2(im));\n",
    "% Create Gaussian bandpass kernels, in frequency domain, for 20 different cut off frequencies and filter the image\n",
    "p=1;\n",
    "for i = 1:10:101\n",
    "q=1;\n",
    "    for j = 1:10:101\n",
    "        %Create the bandpass kernel\n",
    "        tmp1 = create_filter(nx,ny,i,j);\n",
    "        %Filter the image with the bandpass kernel and transform it back to spatial domain\n",
    "        tmp = mat2gray(abs(ifft2(ifftshift(tmp1.*im_fft))));\n",
    "        %Save the filtered image (in spatial domain) and kernel (in frequency domain) for visualization \n",
    "        filtered_image(p,q,:) = tmp(:);\n",
    "        filter_kernel(p,q,:) = tmp1(:);\n",
    "        q=q+1;\n",
    "    end\n",
    "    p=p+1;\n",
    "end\n",
    "\n",
    "%Used to save the filtered images and the filtered kernel in separate files\n",
    "save filtered_image\n",
    "save filter_kernel"
   ]
  },
  {
   "cell_type": "code",
   "execution_count": null,
   "metadata": {
    "kernel": "Python3",
    "scrolled": false
   },
   "outputs": [],
   "source": [
    "#Using inline to avoid flickering of the image\n",
    "%matplotlib inline\n",
    "\n",
    "import ipywidgets as widgets\n",
    "from IPython.display import display\n",
    "import matplotlib.pyplot as plt\n",
    "import numpy as np\n",
    "import matplotlib.image as mpimg\n",
    "import scipy.io as sio\n",
    "\n",
    "#Create RangeSlider widget\n",
    "value = widgets.IntRangeSlider(\n",
    "    value=[0, 10],\n",
    "    min=0,\n",
    "    max=10,\n",
    "    step=1,\n",
    "    description='Frequency cutoffs:',\n",
    "    disabled=False,\n",
    "    continuous_update=False,\n",
    "    orientation='horizontal',\n",
    "    readout=True,\n",
    "    readout_format='d',\n",
    "    layout={'width': '100%', 'height':'100%'}\n",
    ")\n",
    "\n",
    "#Function to show image according to the slider value\n",
    "#First value is the low frequency and the second is the highest frequency\n",
    "def show_image(value_0, value_1):\n",
    "    filtered_image = sio.loadmat('filtered_image.mat')\n",
    "    filt_images = filtered_image['filtered_image']\n",
    "    filt_image = np.rot90((filt_images[value_0][value_1][0:].reshape(402,566)), -1)\n",
    "    return filt_image;\n",
    "    \n",
    "#Function to show kernel image according to the slider value  \n",
    "#First value is the low frequency and the second is the highest frequency\n",
    "def show_kernel(value_0, value_1):\n",
    "    filtered_kernel = sio.loadmat('filter_kernel.mat')\n",
    "    filt_kernels = filtered_kernel['filter_kernel']\n",
    "    filt_kernel = np.rot90((filt_kernels[value_0][value_1][0:].reshape(402,566)), -1)\n",
    "    return filt_kernel;\n",
    "\n",
    "#Function to show both images side by side\n",
    "def update_plot(value):\n",
    "    image = show_image(value[0], value[1])\n",
    "    kernel = show_kernel(value[0], value[1])\n",
    "    plot_image = np.concatenate((np.fliplr(image), np.fliplr(kernel)), axis=1)\n",
    "    plt.figure(figsize=(20,30))\n",
    "    plt.imshow(plot_image, cmap=\"gray\")\n",
    "    plt.title('Filtered Image\\n')\n",
    "    plt.axis('off')\n",
    "    plt.show()\n",
    "    \n",
    "widgets.interactive(update_plot, value=value)"
   ]
  },
  {
   "cell_type": "markdown",
   "metadata": {
    "kernel": "Python3"
   },
   "source": [
    "# Додатни функционалности\n",
    "\n",
    "## Селектирање на слика"
   ]
  },
  {
   "cell_type": "code",
   "execution_count": null,
   "metadata": {
    "kernel": "Python3"
   },
   "outputs": [],
   "source": [
    "import traitlets\n",
    "from ipywidgets import widgets\n",
    "from IPython.display import display\n",
    "from tkinter import Tk, filedialog\n",
    "\n",
    "\n",
    "class SelectFilesButton(widgets.Button):\n",
    "    \"\"\"A file widget that leverages tkinter.filedialog.\"\"\"\n",
    "\n",
    "    def __init__(self):\n",
    "        super(SelectFilesButton, self).__init__()\n",
    "        # Add the selected_files trait\n",
    "        self.add_traits(files=traitlets.traitlets.List())\n",
    "        # Create the button.\n",
    "        self.description = \"Select Files\"\n",
    "        self.icon = \"square-o\"\n",
    "        self.style.button_color = \"orange\"\n",
    "        # Set on click behavior.\n",
    "        self.on_click(self.select_files)\n",
    "\n",
    "    @staticmethod\n",
    "    def select_files(b):\n",
    "        \"\"\"Generate instance of tkinter.filedialog.\n",
    "\n",
    "        Parameters\n",
    "        ----------\n",
    "        b : obj:\n",
    "            An instance of ipywidgets.widgets.Button \n",
    "        \"\"\"\n",
    "        with out:\n",
    "            try:\n",
    "                # Create Tk root\n",
    "                root = Tk()\n",
    "                # Hide the main window\n",
    "                root.withdraw()\n",
    "                # Raise the root to the top of all windows.\n",
    "                root.call('wm', 'attributes', '.', '-topmost', True)\n",
    "                # List of selected fileswill be set to b.value\n",
    "                b.files = filedialog.askopenfilename(multiple=True)\n",
    "\n",
    "                b.description = \"Files Selected\"\n",
    "                b.icon = \"check-square-o\"\n",
    "                b.style.button_color = \"lightgreen\"\n",
    "            except:\n",
    "                pass\n",
    "out = widgets.Output()\n",
    "raw = SelectFilesButton()\n",
    "widgets.VBox([raw, out])"
   ]
  }
 ],
 "metadata": {
  "kernelspec": {
   "display_name": "SoS",
   "language": "sos",
   "name": "sos"
  },
  "language_info": {
   "codemirror_mode": "sos",
   "file_extension": ".sos",
   "mimetype": "text/x-sos",
   "name": "sos",
   "nbconvert_exporter": "sos_notebook.converter.SoS_Exporter",
   "pygments_lexer": "sos"
  },
  "sos": {
   "kernels": [
    [
     "Matlab",
     "matlab",
     "matlab",
     "",
     "octave"
    ],
    [
     "Python3",
     "python3",
     "Python3",
     "#FFD91A",
     {
      "name": "ipython",
      "version": 3
     }
    ]
   ],
   "panel": {
    "displayed": true,
    "height": 0
   },
   "version": "0.21.1"
  }
 },
 "nbformat": 4,
 "nbformat_minor": 2
}
