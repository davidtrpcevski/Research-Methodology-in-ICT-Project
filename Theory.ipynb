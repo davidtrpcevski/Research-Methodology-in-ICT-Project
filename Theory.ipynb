{
 "cells": [
  {
   "cell_type": "markdown",
   "metadata": {
    "kernel": "SoS"
   },
   "source": [
    "# Филтрирање на слика во фреквенциски домен\n",
    "\n",
    "## Теорија\n",
    "\n",
    "За да филтрираме слика во фреквенциски домен \n",
    "потребно е да ја помножиме сликата во фреквенциски \n",
    "домен со филтерот (кернел) кој е исто така во фреквенциски домен.\n",
    "\n",
    "$$I_{f,filt} = HI_f$$\n",
    "\n",
    "За таа цел потребно е да се вметне Octave функција која ќе креира “Band pass gaussian filter” во фреквенциски домен. Bandpass гаусовиот филтер во фреквенциски домен е дефиниран со равенката:\n",
    "\n",
    "\n",
    "$$H(i,j)=e^{-\\dfrac{d(i,j)^2}{f_{h}^{2}}}\\left(1-e^{-\\dfrac{d(i,j)^2}{f_{l}^{2}}}\\right)$$\n",
    "\n",
    "Каде што $d(i,j)$ е евклидовото растојанието на даден пиксел од центарот на сликата, додека $f_h$ и $f_l$ се праговите на високите и ниските фреквенции кои сакаме да ги филтрираме.\n",
    "Конверзија на 2D сликата од просторен во фреквенциски домен се прави со користење на Фуриева трансформација. Фуриевата трансформација е дефинирана како:\n",
    "\n",
    "$$F(u,v)=\\underset{-\\infty}\\iint^{\\infty}f(x,y)e^{-i2\\pi(ux+vy)}dxdy$$\n",
    "\n",
    "А во дискретниот домен горната равенка може да биде преведена како\n",
    "\n",
    "$$F(u,v) = \\displaystyle\\sum_{m=-\\infty}^{\\infty} \\sum_{n=-\\infty}^{\\infty} f[m,n] \\cdot e^ {-i2\\pi(umx_0+vny_0)}$$\n",
    "        \n",
    "Конверзија на 2D сликата од фреквенциски во просторен домен се прави со\n",
    "користење на инверзна Фуриева трансформација. Инверзната Фуриева\n",
    "трансформација е дефинирана како:\n",
    "\n",
    "$$f(x,y)=\\underset{-\\infty}\\iint^{\\infty}F(u,v)e^{i2\\pi(ux+vy)}dudv$$\n",
    "\n",
    "А во дискретниот домен горната равенка може да биде преведена како\n",
    "\n",
    "$$F(x,y) = \\displaystyle\\sum_{m=-\\infty}^{\\infty} \\sum_{n=-\\infty}^{\\infty} f[m,n] \\cdot e^ {i2\\pi(xmu_0+ynv_0)}$$"
   ]
  },
  {
   "cell_type": "markdown",
   "metadata": {
    "kernel": "SoS"
   },
   "source": [
    "## Имплементација и визуелизација"
   ]
  },
  {
   "cell_type": "code",
   "execution_count": 1,
   "metadata": {
    "kernel": "Matlab"
   },
   "outputs": [
    {
     "name": "stdout",
     "output_type": "stream",
     "text": [
      "Created file '/home/david/Desktop/mikt/create_filter.m'.\n"
     ]
    }
   ],
   "source": [
    "%%file create_filter.m\n",
    "\n",
    "function filter = create_filter(nx,ny,d0,d1)\n",
    "    filter = ones(nx,ny);\n",
    "    for i = 0:nx-1\n",
    "        for j = 0:ny-1\n",
    "            dist= sqrt((i-nx/2)^2 + (j-ny/2)^2);\n",
    "            filter(i+1,j+1) = exp(-(dist^2)/(d1^2)).*(1.0-exp(-(dist^2)/(d0^2)));\n",
    "        end\n",
    "    end\n",
    "    filter(nx/2+1,ny/2+1)=1;\n",
    "end"
   ]
  },
  {
   "cell_type": "code",
   "execution_count": 2,
   "metadata": {
    "kernel": "Matlab",
    "scrolled": true
   },
   "outputs": [],
   "source": [
    "clear all\n",
    "%read image\n",
    "im = double(imread('Requirements/Barbara.tif'));\n",
    "%size of the image\n",
    "[nx ny] = size(im);\n",
    "%Transform the image from spatial to frequency domain\n",
    "im_fft = fftshift(fft2(im));\n",
    "% Create Gaussian bandpass kernels, in frequency domain, for 20 different cut off frequencies and filter the image\n",
    "p=1;\n",
    "for i = 1:10:101\n",
    "q=1;\n",
    "    for j = 1:10:101\n",
    "        %Create the bandpass kernel\n",
    "        tmp1 = create_filter(nx,ny,i,j);\n",
    "        %Filter the image with the bandpass kernel and transform it back to spatial domain\n",
    "        tmp = mat2gray(abs(ifft2(ifftshift(tmp1.*im_fft))));\n",
    "        %Save the filtered image (in spatial domain) and kernel (in frequency domain) for visualization \n",
    "        filtered_image(p,q,:) = tmp(:);\n",
    "        filter_kernel(p,q,:) = tmp1(:);\n",
    "        q=q+1;\n",
    "    end\n",
    "    p=p+1;\n",
    "end\n",
    "save filtered_image\n",
    "save filter_kernel"
   ]
  },
  {
   "cell_type": "code",
   "execution_count": 2,
   "metadata": {
    "kernel": "SoS"
   },
   "outputs": [
    {
     "data": {
      "application/vnd.jupyter.widget-view+json": {
       "model_id": "ba80e7e1c85641ef9269cfedb6a7f166",
       "version_major": 2,
       "version_minor": 0
      },
      "text/plain": [
       "interactive(children=(IntRangeSlider(value=(0, 10), continuous_update=False, description='Frequency cutoffs:',…"
      ]
     },
     "metadata": {},
     "output_type": "display_data"
    },
    {
     "data": {},
     "execution_count": 2,
     "metadata": {},
     "output_type": "execute_result"
    }
   ],
   "source": [
    "%matplotlib nbagg\n",
    "\n",
    "import ipywidgets as widgets\n",
    "from IPython.display import display\n",
    "import matplotlib.pyplot as plt\n",
    "import numpy as np\n",
    "import matplotlib.image as mpimg\n",
    "import scipy.io as sio\n",
    "\n",
    "value = widgets.IntRangeSlider(\n",
    "    value=[0, 10],\n",
    "    min=0,\n",
    "    max=10,\n",
    "    step=1,\n",
    "    description='Frequency cutoffs:',\n",
    "    disabled=False,\n",
    "    continuous_update=False,\n",
    "    orientation='horizontal',\n",
    "    readout=True,\n",
    "    readout_format='d',\n",
    "    layout={'width': '100%'}\n",
    ")\n",
    "\n",
    "def show_image(value_0, value_1):\n",
    "    filtered_image = sio.loadmat('filtered_image.mat')\n",
    "    filt_images = filtered_image['filtered_image']\n",
    "    temp = filt_images[value_0][value_1][0:]\n",
    "    temp = temp.reshape(402,566)\n",
    "    temp = np.rot90(temp, -1)\n",
    "    return temp;\n",
    "    \n",
    "def show_kernel(value_0, value_1):\n",
    "    filtered_kernel = sio.loadmat('filter_kernel.mat')\n",
    "    filt_kernels = filtered_kernel['filter_kernel']\n",
    "    temp = filt_kernels[value_0][value_1][0:]\n",
    "    temp = temp.reshape(402,566)\n",
    "    temp = np.rot90(temp, -1)\n",
    "    return temp;\n",
    "\n",
    "def update_plot(value):\n",
    "    value_0 = value[0]\n",
    "    value_1 = value[1]\n",
    "    image = show_image(value_0, value_1)\n",
    "    kernel = show_kernel(value_0, value_1)\n",
    "    img_A = (image)\n",
    "    img_B = (kernel)\n",
    "    img_A = np.fliplr(img_A)\n",
    "    img_B = np.fliplr(img_B)\n",
    "    plot_image = np.concatenate((img_A, img_B), axis=1)\n",
    "    plt.imshow(plot_image, cmap=\"gray\")\n",
    "    plt.title('Filtered Image')\n",
    "    plt.axis('off')\n",
    "    plt.show()\n",
    "\n",
    "widgets.interactive(update_plot, value=value)"
   ]
  }
 ],
 "metadata": {
  "kernelspec": {
   "display_name": "SoS",
   "language": "sos",
   "name": "sos"
  },
  "language_info": {
   "codemirror_mode": "sos",
   "file_extension": ".sos",
   "mimetype": "text/x-sos",
   "name": "sos",
   "nbconvert_exporter": "sos_notebook.converter.SoS_Exporter",
   "pygments_lexer": "sos"
  },
  "sos": {
   "kernels": [
    [
     "Matlab",
     "matlab",
     "matlab",
     "",
     "octave"
    ],
    [
     "SoS",
     "sos",
     "",
     "",
     "sos"
    ]
   ],
   "panel": {
    "displayed": true,
    "height": 0
   },
   "version": "0.21.1"
  }
 },
 "nbformat": 4,
 "nbformat_minor": 2
}
